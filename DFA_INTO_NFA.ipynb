{
 "cells": [
  {
   "cell_type": "code",
   "execution_count": null,
   "metadata": {},
   "outputs": [],
   "source": [
    "# To convert from NFA to DFA using subset construction method\n",
    "# 1. Epsilon closure of the initial state\n",
    "# 2. For each state in the epsilon closure, find the transition on each input symbol\n",
    "# 3. Epsilon closure of the states reached in step 2\n",
    "# 4. Repeat step 2 and 3 until no new states are reached\n",
    "# 5. The states reached in step 4 are the states of the DFA\n",
    "# 6. The transition function of the DFA is the transitions found in step 2 and 3"
   ]
  },
  {
   "cell_type": "code",
   "execution_count": 78,
   "metadata": {},
   "outputs": [
    {
     "name": "stdout",
     "output_type": "stream",
     "text": [
      "['a', 'b', 'c', 'd', 'e', 'f', 'g', 'h', 'i', 'j', 'k', 'l', 'm', 'n', 'o', 'p', 'q', 'r', 's', 't', 'u', 'v', 'w', 'x', 'y', 'z']\n"
     ]
    }
   ],
   "source": [
    "def Split_range(range_string):\n",
    "    if '-' not in range_string:\n",
    "        return [range_string]\n",
    "    start, end = range_string.split('-')\n",
    "    list_range = []\n",
    "    try :\n",
    "        start = int(start)\n",
    "        end = int(end)\n",
    "        for i in range(start, end + 1):\n",
    "            list_range.append(i)\n",
    "        return list_range\n",
    "    except ValueError:\n",
    "        for i in range(ord(start), ord(end) + 1):\n",
    "            list_range.append(chr(i))\n",
    "        return list_range\n",
    "\n",
    "range_string = 'a-z'\n",
    "Symbols = Split_range(range_string)\n",
    "print(Symbols)"
   ]
  },
  {
   "cell_type": "code",
   "execution_count": 162,
   "metadata": {},
   "outputs": [
    {
     "name": "stdout",
     "output_type": "stream",
     "text": [
      "NFA :  {'S1': {'a': {'S2'}}, 'S2': {'ε': {'S3'}}, 'S3': {'b': {'S4'}}, 'S4': {'ε': {'S11'}}, 'S11': {'ε': {'S12', 'S9'}}, 'S12': {'ε': {'S15'}}, 'S9': {'ε': {'S5', 'S7'}}, 'S10': {'ε': {'S11', 'S12'}}, 'S7': {'c': {'S8'}}, 'S8': {'ε': {'S10'}}, 'S5': {'b': {'S6'}}, 'S6': {'ε': {'S10'}}, 'S15': {'ε': {'S13'}}, 'S16': {}, 'S13': {'d': {'S14'}}, 'S14': {'ε': {'S16', 'S15'}}}\n",
      "Symbols :  ['c', 'b', 'a', 'd']\n",
      "Start State :  ['S1']\n",
      "Accept State :  ['S16']\n",
      "16\n"
     ]
    }
   ],
   "source": [
    "import json\n",
    "def build_nfa_from_json(path):\n",
    "    with open(path, 'r', encoding='utf-8') as f:\n",
    "        data = json.load(f)\n",
    "    start_state = []\n",
    "    start_state.append(data['startingState'])\n",
    "    accept_states = []\n",
    "    for state in data:\n",
    "        if state == 'startingState' :\n",
    "            continue\n",
    "        if data[state]['isTerminatingState'] :\n",
    "            accept_states.append(state)\n",
    "    Symbols = set()\n",
    "    nfa = {}\n",
    "    for state in data:\n",
    "        if state == 'startingState' :\n",
    "            continue\n",
    "        nfa[state] = {}\n",
    "        for key in data[state] :\n",
    "            if key == 'isTerminatingState' :\n",
    "                continue\n",
    "            nfa[state] = {key : set()}\n",
    "            for k in data[state][key]:\n",
    "                nfa[state][key].add(k)\n",
    "            if key != 'ε' :\n",
    "                Symbols.add(key)\n",
    "    \n",
    "    return nfa,list(Symbols),start_state , accept_states\n",
    "nfa, Symbols ,start_state , accept_states = build_nfa_from_json('RE_NFA/output.json')\n",
    "print('NFA : ',nfa)\n",
    "print('Symbols : ' ,Symbols)\n",
    "print('Start State : ' , start_state)\n",
    "print('Accept State : ' , accept_states)   \n",
    "print(len(nfa))"
   ]
  },
  {
   "cell_type": "code",
   "execution_count": 88,
   "metadata": {},
   "outputs": [
    {
     "name": "stdout",
     "output_type": "stream",
     "text": [
      "{'d', 'c', 'a', 'e', 'b'}\n"
     ]
    }
   ],
   "source": [
    "set_of_states = list()\n",
    "for symbol in Symbols:\n",
    "    for s in Split_range(symbol):\n",
    "        set_of_states.append(s)\n",
    "print(set(set_of_states))"
   ]
  },
  {
   "cell_type": "code",
   "execution_count": 357,
   "metadata": {},
   "outputs": [],
   "source": [
    "Symbols = ['a', 'b', 'c']\n",
    "accept_states = {4}\n",
    "start_state = {0}"
   ]
  },
  {
   "cell_type": "code",
   "execution_count": 163,
   "metadata": {},
   "outputs": [
    {
     "name": "stdout",
     "output_type": "stream",
     "text": [
      "{'S1'}\n",
      "{\"{'S15', 'S11', 'S12', 'S5', 'S13', 'S9', 'S4', 'S7'}\": False, \"{'S8', 'S15', 'S11', 'S10', 'S12', 'S13', 'S5', 'S9', 'S7'}\": False, \"{'S3', 'S2'}\": False, \"{'S1'}\": False, \"{'S16', 'S13', 'S15', 'S14'}\": True, \"{'S15', 'S6', 'S11', 'S10', 'S12', 'S13', 'S5', 'S9', 'S7'}\": False}\n",
      "{(frozenset({'S1'}), 'a'): {'S3', 'S2'}, (frozenset({'S3', 'S2'}), 'b'): {'S15', 'S11', 'S12', 'S5', 'S13', 'S9', 'S4', 'S7'}, (frozenset({'S15', 'S11', 'S12', 'S5', 'S13', 'S9', 'S4', 'S7'}), 'c'): {'S8', 'S15', 'S11', 'S10', 'S12', 'S13', 'S5', 'S9', 'S7'}, (frozenset({'S15', 'S11', 'S12', 'S5', 'S13', 'S9', 'S4', 'S7'}), 'b'): {'S15', 'S6', 'S11', 'S10', 'S12', 'S13', 'S5', 'S9', 'S7'}, (frozenset({'S15', 'S11', 'S12', 'S5', 'S13', 'S9', 'S4', 'S7'}), 'd'): {'S16', 'S13', 'S15', 'S14'}, (frozenset({'S16', 'S13', 'S15', 'S14'}), 'd'): {'S16', 'S13', 'S15', 'S14'}, (frozenset({'S15', 'S6', 'S11', 'S10', 'S12', 'S13', 'S5', 'S9', 'S7'}), 'c'): {'S8', 'S15', 'S11', 'S10', 'S12', 'S13', 'S5', 'S9', 'S7'}, (frozenset({'S15', 'S6', 'S11', 'S10', 'S12', 'S13', 'S5', 'S9', 'S7'}), 'b'): {'S15', 'S6', 'S11', 'S10', 'S12', 'S13', 'S5', 'S9', 'S7'}, (frozenset({'S15', 'S6', 'S11', 'S10', 'S12', 'S13', 'S5', 'S9', 'S7'}), 'd'): {'S16', 'S13', 'S15', 'S14'}, (frozenset({'S8', 'S15', 'S11', 'S10', 'S12', 'S13', 'S5', 'S9', 'S7'}), 'c'): {'S8', 'S15', 'S11', 'S10', 'S12', 'S13', 'S5', 'S9', 'S7'}, (frozenset({'S8', 'S15', 'S11', 'S10', 'S12', 'S13', 'S5', 'S9', 'S7'}), 'b'): {'S15', 'S6', 'S11', 'S10', 'S12', 'S13', 'S5', 'S9', 'S7'}, (frozenset({'S8', 'S15', 'S11', 'S10', 'S12', 'S13', 'S5', 'S9', 'S7'}), 'd'): {'S16', 'S13', 'S15', 'S14'}}\n"
     ]
    }
   ],
   "source": [
    "def epsilon_closure(nfa, states):\n",
    "    #states = {states} if isinstance(states, str) else set(states)\n",
    "    closure = set(states)\n",
    "    stack = list(states)\n",
    "    while stack:\n",
    "        state = stack.pop()\n",
    "        if 'ε' in nfa[state]:\n",
    "            for s in nfa[state]['ε']:\n",
    "                if s not in closure:\n",
    "                    closure.add(s)\n",
    "                    stack.append(s)\n",
    "    return closure\n",
    "\n",
    "def move(nfa, states, symbol):\n",
    "    moves = set()\n",
    "    for state in states:\n",
    "        if symbol in nfa[state]:\n",
    "            moves.update(nfa[state][symbol])\n",
    "    return moves\n",
    "\n",
    "# nfa = {\n",
    "#     0: {'a': {2} , 'ε': {3} , 'b': {4}},\n",
    "#     1: {'a': {3}, 'b': {2}},\n",
    "#     2: {'a': {2} , 'b': {4}},\n",
    "#     3: {'a' : {3} , 'b': {1}},\n",
    "#     4: {'ε': {3} , 'b': {1} , 'a': {2}},\n",
    "# }\n",
    "D_states = epsilon_closure(nfa,start_state) # {0, 1}\n",
    "print(D_states)\n",
    "D_transitions = {}\n",
    "def convert_dfa_from_nfa(nfa , D_states , D_transitions) :\n",
    "    stack = [D_states]\n",
    "    while stack:\n",
    "        D_states = stack.pop()\n",
    "        for symbol in Symbols:\n",
    "            moves = move(nfa, D_states, symbol)\n",
    "            moves = epsilon_closure(nfa, moves)\n",
    "            if moves:\n",
    "                if (frozenset(D_states), symbol) not in D_transitions:\n",
    "                    D_transitions[(frozenset(D_states), symbol)] = moves\n",
    "                    stack.append(moves)\n",
    "    return D_transitions\n",
    "\n",
    "\n",
    "D_transitions = convert_dfa_from_nfa(nfa , D_states , D_transitions)\n",
    "\n",
    "D_states = set(D_transitions.keys())\n",
    "set_of_states = set()\n",
    "dict_of_states = {}\n",
    "for D_state in D_states:\n",
    "    set_of_states.add(D_state[0])\n",
    "for state in (set_of_states):\n",
    "    for accept_state in accept_states:\n",
    "        if accept_state in state:\n",
    "            dict_of_states[str(set(state))] = True\n",
    "            break\n",
    "        else:\n",
    "            dict_of_states[str(set(state))] = False\n",
    "print(dict_of_states)\n",
    "print(D_transitions)\n",
    "#D_transitions = {(frozenset({0, 1, 2}), 'a'): {2, 3}, (frozenset({0, 1, 2}), 'b'): {3, 4}, (frozenset({3, 4}), 'a'): {2}, (frozenset({3, 4}), 'b'): {1, 2}, (frozenset({1, 2}), 'a'): {3}, (frozenset({1, 2}), 'b'): {3, 4}, (frozenset({3}), 'b'): {1, 2}, (frozenset({2}), 'b'): {3, 4}, (frozenset({2, 3}), 'b'): {1, 2, 3, 4}, (frozenset({1, 2, 3, 4}), 'a'): {2, 3}, (frozenset({1, 2, 3, 4}), 'b'): {1, 2, 3, 4}, (frozenset({3}), 'a'): {3, 4}, (frozenset({2}), 'a'): {1, 2, 3, 4}, (frozenset({2, 3}), 'a'): {0, 1, 2}}"
   ]
  },
  {
   "cell_type": "code",
   "execution_count": 164,
   "metadata": {},
   "outputs": [
    {
     "name": "stdout",
     "output_type": "stream",
     "text": [
      "{(\"{'S1'}\", 'a'): {'S3', 'S2'}, (\"{'S3', 'S2'}\", 'b'): {'S15', 'S11', 'S12', 'S5', 'S13', 'S9', 'S4', 'S7'}, (\"{'S15', 'S11', 'S12', 'S5', 'S13', 'S9', 'S4', 'S7'}\", 'c'): {'S8', 'S15', 'S11', 'S10', 'S12', 'S13', 'S5', 'S9', 'S7'}, (\"{'S15', 'S11', 'S12', 'S5', 'S13', 'S9', 'S4', 'S7'}\", 'b'): {'S15', 'S6', 'S11', 'S10', 'S12', 'S13', 'S5', 'S9', 'S7'}, (\"{'S15', 'S11', 'S12', 'S5', 'S13', 'S9', 'S4', 'S7'}\", 'd'): {'S16', 'S13', 'S15', 'S14'}, (\"{'S16', 'S13', 'S15', 'S14'}\", 'd'): {'S16', 'S13', 'S15', 'S14'}, (\"{'S15', 'S6', 'S11', 'S10', 'S12', 'S13', 'S5', 'S9', 'S7'}\", 'c'): {'S8', 'S15', 'S11', 'S10', 'S12', 'S13', 'S5', 'S9', 'S7'}, (\"{'S15', 'S6', 'S11', 'S10', 'S12', 'S13', 'S5', 'S9', 'S7'}\", 'b'): {'S15', 'S6', 'S11', 'S10', 'S12', 'S13', 'S5', 'S9', 'S7'}, (\"{'S15', 'S6', 'S11', 'S10', 'S12', 'S13', 'S5', 'S9', 'S7'}\", 'd'): {'S16', 'S13', 'S15', 'S14'}, (\"{'S8', 'S15', 'S11', 'S10', 'S12', 'S13', 'S5', 'S9', 'S7'}\", 'c'): {'S8', 'S15', 'S11', 'S10', 'S12', 'S13', 'S5', 'S9', 'S7'}, (\"{'S8', 'S15', 'S11', 'S10', 'S12', 'S13', 'S5', 'S9', 'S7'}\", 'b'): {'S15', 'S6', 'S11', 'S10', 'S12', 'S13', 'S5', 'S9', 'S7'}, (\"{'S8', 'S15', 'S11', 'S10', 'S12', 'S13', 'S5', 'S9', 'S7'}\", 'd'): {'S16', 'S13', 'S15', 'S14'}}\n",
      "Real States:  [\"{'S1'}\", \"{'S3', 'S2'}\", \"{'S15', 'S11', 'S12', 'S5', 'S13', 'S9', 'S4', 'S7'}\", \"{'S16', 'S13', 'S15', 'S14'}\", \"{'S15', 'S6', 'S11', 'S10', 'S12', 'S13', 'S5', 'S9', 'S7'}\", \"{'S8', 'S15', 'S11', 'S10', 'S12', 'S13', 'S5', 'S9', 'S7'}\"]\n",
      "6\n",
      "{\"{'S1'}\": 'S0', \"{'S3', 'S2'}\": 'S1', \"{'S15', 'S11', 'S12', 'S5', 'S13', 'S9', 'S4', 'S7'}\": 'S2', \"{'S16', 'S13', 'S15', 'S14'}\": 'S3', \"{'S15', 'S6', 'S11', 'S10', 'S12', 'S13', 'S5', 'S9', 'S7'}\": 'S4', \"{'S8', 'S15', 'S11', 'S10', 'S12', 'S13', 'S5', 'S9', 'S7'}\": 'S5'}\n"
     ]
    }
   ],
   "source": [
    "new_D_transitions = {}\n",
    "\n",
    "# Iterate through the original dictionary\n",
    "for key, value in D_transitions.items():\n",
    "    # Extract state and symbol from the key\n",
    "    state = ', '.join(str(s) for s in key[0])\n",
    "    #print(state)\n",
    "    state = \"{'\" + \"', '\".join(state.strip(\"{}\").split(\", \")) + \"'}\"\n",
    "    #print(state)\n",
    "    symbol = key[1]\n",
    "    # Construct new key in the desired format\n",
    "    new_key = state, symbol\n",
    "    new_D_transitions[new_key] = value\n",
    "\n",
    "print(new_D_transitions)\n",
    "D_transitions = new_D_transitions\n",
    "\n",
    "real_states = list()\n",
    "for one in (D_transitions.keys()) :\n",
    "    if (one[0]) not in real_states:\n",
    "        elements = one[0].strip(\"{}\").split(\", \")\n",
    "        converted = \"{'\" + \"', '\".join(elements) + \"'}\"\n",
    "        real_states.append(one[0])\n",
    "print(\"Real States: \",real_states)  \n",
    "print(len(real_states))\n",
    "new_names_states = {}\n",
    "for i in range(len(real_states)):\n",
    "    new_names_states[str(real_states[i])] = f'S{i}'\n",
    "print(new_names_states)   \n"
   ]
  },
  {
   "cell_type": "code",
   "execution_count": 173,
   "metadata": {},
   "outputs": [
    {
     "data": {
      "text/plain": [
       "'dfa_graph.png'"
      ]
     },
     "execution_count": 173,
     "metadata": {},
     "output_type": "execute_result"
    }
   ],
   "source": [
    "from graphviz import Digraph\n",
    "def visualize_dfa(D_transitions):\n",
    "    dot = Digraph()\n",
    "\n",
    "    # Add nodes\n",
    "    for key in dict_of_states.keys():\n",
    "        dot.node(str(new_names_states[str(key)]), shape='doublecircle' if dict_of_states[key] else 'circle')\n",
    "\n",
    "    # Add edges\n",
    "    for (src, symbol), dst in D_transitions.items():\n",
    "        element = src.strip(\"{}\")\n",
    "        # Add quotes around the element and put it back into a string with curly braces\n",
    "        #converted = \"{'\" + element + \"'}\"\n",
    "        #src = \"{'\" + src.strip(\"{}\").split(\", \") + \"'}\"\n",
    "        #dst = \"{'\" + dst.strip(\"{}\").split(\", \") + \"'}\"\n",
    "        dot.edge(str(new_names_states[(src)]),str(new_names_states[str(dst)]), label=symbol)\n",
    "    dot.edge('start' , 'S0')\n",
    "\n",
    "    return dot\n",
    "\n",
    "\n",
    "#D_transitions = convert_dfa_from_nfa(nfa , D_states , D_transitions)\n",
    "dot = visualize_dfa(D_transitions)\n",
    "dot.format = 'png'\n",
    "dot.render('dfa_graph')"
   ]
  },
  {
   "cell_type": "code",
   "execution_count": 15,
   "metadata": {},
   "outputs": [
    {
     "name": "stdout",
     "output_type": "stream",
     "text": [
      "Minimized Transitions:  {('{S1}', 'a'): 'S0', ('{S3, S2}', 'b'): 'S0', ('{S15, S11, S12, S5, S13, S9, S4, S7}', 'c'): 'S0', ('{S15, S11, S12, S5, S13, S9, S4, S7}', 'b'): 'S0', ('{S15, S11, S12, S5, S13, S9, S4, S7}', 'd'): 'S1', ('{S16, S13, S15, S14}', 'd'): 'S1', ('{S15, S6, S11, S10, S12, S13, S5, S9, S7}', 'c'): 'S0', ('{S15, S6, S11, S10, S12, S13, S5, S9, S7}', 'b'): 'S0', ('{S15, S6, S11, S10, S12, S13, S5, S9, S7}', 'd'): 'S1', ('{S8, S15, S11, S10, S12, S13, S5, S9, S7}', 'c'): 'S0', ('{S8, S15, S11, S10, S12, S13, S5, S9, S7}', 'b'): 'S0', ('{S8, S15, S11, S10, S12, S13, S5, S9, S7}', 'd'): 'S1'}\n",
      "Node mapper :  {'S0': {\"{'S3', 'S2'}\", \"{'S1'}\", \"{'S8', 'S15', 'S11', 'S10', 'S12', 'S13', 'S5', 'S9', 'S7'}\", \"{'S15', 'S6', 'S11', 'S10', 'S12', 'S13', 'S5', 'S9', 'S7'}\", \"{'S15', 'S11', 'S12', 'S5', 'S13', 'S9', 'S4', 'S7'}\"}, 'S1': {\"{'S16', 'S13', 'S15', 'S14'}\"}}\n",
      "{'S0': False, 'S1': True}\n",
      "[{\"{'S3', 'S2'}\", \"{'S1'}\", \"{'S8', 'S15', 'S11', 'S10', 'S12', 'S13', 'S5', 'S9', 'S7'}\", \"{'S15', 'S6', 'S11', 'S10', 'S12', 'S13', 'S5', 'S9', 'S7'}\", \"{'S15', 'S11', 'S12', 'S5', 'S13', 'S9', 'S4', 'S7'}\"}, {\"{'S16', 'S13', 'S15', 'S14'}\"}]\n",
      "2\n"
     ]
    }
   ],
   "source": [
    "# first_set = set()\n",
    "# second_set = set()\n",
    "# for key in dict_of_states.keys():\n",
    "#     if dict_of_states[key]:\n",
    "#         second_set.add(key)\n",
    "#     else:\n",
    "#         first_set.add(key)\n",
    "# stack = [first_set, second_set]\n",
    "# def DFA_Minimization(D_transitions, Symbols, dict_of_states):\n",
    "#     P = [first_set, second_set]\n",
    "#     W = [second_set]  \n",
    "    \n",
    "#     while W:\n",
    "#         A = W.pop()\n",
    "#         for c in Symbols:\n",
    "#             X = set()\n",
    "#             for state in dict_of_states.keys():\n",
    "#                 if (state, c) in D_transitions:\n",
    "#                     if str(D_transitions[(state, c)]) in A:\n",
    "#                         X.add(state)\n",
    "#             for Y in P[:]:\n",
    "#                 intersection = X & Y\n",
    "#                 difference = Y - X\n",
    "#                 if intersection:\n",
    "#                     P.remove(Y)\n",
    "#                     P.extend([intersection, difference])\n",
    "#                     if Y in W:\n",
    "#                         W.remove(Y)\n",
    "#                         W.extend([intersection, difference])\n",
    "#                     else:\n",
    "#                         if len(intersection) <= len(difference):\n",
    "#                             W.append(intersection)\n",
    "#                         else:\n",
    "#                             W.append(difference)\n",
    "#     for sets in P[:]:\n",
    "#         if sets == set():\n",
    "#             P.remove(sets)  \n",
    "#     return P\n",
    "\n",
    "# P = DFA_Minimization(D_transitions, Symbols, dict_of_states)\n",
    "# li = list(dict_of_states.keys())\n",
    "# node_mapper = {}\n",
    "# for i in range(len(P)):\n",
    "#     node_mapper[f'S{i}'] = (P[i])\n",
    "\n",
    "# converted_dict = {}\n",
    "# for key, value_set in node_mapper.items():\n",
    "#     for value in value_set:\n",
    "#         converted_dict[value] = key\n",
    "\n",
    "\n",
    "# minimized_transitions = {}\n",
    "# for (src, symbol), dst in D_transitions.items():\n",
    "#     for i in range(len(P)):\n",
    "#         if src in P[i]:\n",
    "#             src = f'S{i}'\n",
    "#             break\n",
    "#     for i in range(len(P)):\n",
    "#         if dst in P[i]:\n",
    "#             dst = f'S{i}'\n",
    "#             break\n",
    "#     minimized_transitions[(src, symbol)] = converted_dict[str(dst)]\n",
    "# print('Minimized Transitions: ',minimized_transitions)\n",
    "# print(\"Node mapper : \",node_mapper)\n",
    "# dict_of_min_states = {}\n",
    "# for key,sets in node_mapper.items():\n",
    "#     dict_of_min_states[key] = False\n",
    "#     for set_ in sets:\n",
    "#         if dict_of_states[set_]:\n",
    "#             dict_of_min_states[key] = True\n",
    "#             break\n",
    "    \n",
    "# print((dict_of_min_states))   \n",
    "# print(P)\n",
    "# print(len(P))    "
   ]
  },
  {
   "cell_type": "code",
   "execution_count": 167,
   "metadata": {},
   "outputs": [
    {
     "name": "stdout",
     "output_type": "stream",
     "text": [
      "States :  [{\"{'S3', 'S2'}\"}, {\"{'S1'}\"}, {\"{'S8', 'S15', 'S11', 'S10', 'S12', 'S13', 'S5', 'S9', 'S7'}\", \"{'S15', 'S11', 'S12', 'S5', 'S13', 'S9', 'S4', 'S7'}\", \"{'S15', 'S6', 'S11', 'S10', 'S12', 'S13', 'S5', 'S9', 'S7'}\"}, {\"{'S16', 'S13', 'S15', 'S14'}\"}]\n",
      "4\n",
      "State_mapping:  {\"{'S3', 'S2'}\": 'Q0', \"{'S1'}\": 'Q1', \"{'S8', 'S15', 'S11', 'S10', 'S12', 'S13', 'S5', 'S9', 'S7'}\": 'Q2', \"{'S15', 'S11', 'S12', 'S5', 'S13', 'S9', 'S4', 'S7'}\": 'Q2', \"{'S15', 'S6', 'S11', 'S10', 'S12', 'S13', 'S5', 'S9', 'S7'}\": 'Q2', \"{'S16', 'S13', 'S15', 'S14'}\": 'Q3'}\n",
      "Node mapper :  {'Q0': {\"{'S3', 'S2'}\"}, 'Q1': {\"{'S1'}\"}, 'Q2': {\"{'S8', 'S15', 'S11', 'S10', 'S12', 'S13', 'S5', 'S9', 'S7'}\", \"{'S15', 'S11', 'S12', 'S5', 'S13', 'S9', 'S4', 'S7'}\", \"{'S15', 'S6', 'S11', 'S10', 'S12', 'S13', 'S5', 'S9', 'S7'}\"}, 'Q3': {\"{'S16', 'S13', 'S15', 'S14'}\"}}\n",
      "{'Q0': False, 'Q1': False, 'Q2': False, 'Q3': True}\n",
      "Minimized Transitions:  {('Q1', 'a'): 'Q0', ('Q0', 'b'): 'Q2', ('Q2', 'c'): 'Q2', ('Q2', 'b'): 'Q2', ('Q2', 'd'): 'Q3', ('Q3', 'd'): 'Q3'}\n",
      "Q1\n"
     ]
    }
   ],
   "source": [
    "def minimize_dfa(D_transitions, dict_of_states):\n",
    "    partitions = [set(), set()]\n",
    "    for state, is_accepting in dict_of_states.items():\n",
    "        partitions[is_accepting].add(state)     # Non accepting states then accepting states\n",
    "    while True:\n",
    "        new_partitions = []\n",
    "        for partition in partitions:\n",
    "            if len(partition) <= 1: \n",
    "                new_partitions.append(partition)\n",
    "                continue\n",
    "\n",
    "            transition_partitions = {}\n",
    "            for state in partition:\n",
    "                transitions = [(symbol, frozenset(D_transitions[state, symbol]) if ((state, symbol) in D_transitions.keys()) else None) for symbol in Symbols] \n",
    "                transition_partitions[state] = transitions\n",
    "            grouped_transitions = {}\n",
    "            for state, transitions in transition_partitions.items():\n",
    "                if tuple(transitions) not in grouped_transitions.keys():\n",
    "                    grouped_transitions[tuple(transitions)] = set()\n",
    "                grouped_transitions[tuple(transitions)].add(state)\n",
    "\n",
    "            new_partitions.extend(grouped_transitions.values())\n",
    "\n",
    "        if new_partitions == partitions: \n",
    "            break\n",
    "        partitions = new_partitions\n",
    "\n",
    "    # Merge equivalent states\n",
    "    state_mapping = {}\n",
    "    for i, partition in enumerate(partitions):\n",
    "        for state in partition:\n",
    "            state_mapping[state] = f'Q{i}'\n",
    "\n",
    "    return partitions , state_mapping\n",
    "\n",
    "partitions , state_mapping = minimize_dfa(D_transitions, dict_of_states)\n",
    "print(\"States : \" , partitions)\n",
    "print(len(partitions))\n",
    "print(\"State_mapping: \" , state_mapping)\n",
    "node_mapper = {}\n",
    "for key, value in state_mapping.items():\n",
    "    if value not in node_mapper:\n",
    "        node_mapper[value] = set()\n",
    "    node_mapper[value].add(key)\n",
    "print(\"Node mapper : \" , node_mapper)\n",
    "dict_of_min_states = {}\n",
    "for key,sets in node_mapper.items():\n",
    "    dict_of_min_states[key] = False\n",
    "    for set_ in sets:\n",
    "        if dict_of_states[set_]:\n",
    "            dict_of_min_states[key] = True\n",
    "            break\n",
    "    \n",
    "print((dict_of_min_states))\n",
    "\n",
    "\n",
    "\n",
    "\n",
    "minimized_transitions = {}\n",
    "for (src, symbol), dst in D_transitions.items():\n",
    "    for i in range(len(partitions)):\n",
    "        if src in partitions[i]:\n",
    "            src = f'Q{i}'\n",
    "            break\n",
    "    for i in range(len(partitions)):\n",
    "        if dst in partitions[i]:\n",
    "            dst = f'Q{i}'\n",
    "            break\n",
    "    minimized_transitions[(src, symbol)] = state_mapping[str(dst)]\n",
    "print('Minimized Transitions: ',minimized_transitions)\n",
    "q_0 = epsilon_closure(nfa, start_state) \n",
    "start_index = 1000\n",
    "br = False \n",
    "for state in partitions:\n",
    "    if br:\n",
    "        break\n",
    "    for s in list(state):\n",
    "        #print(str(s),q_0)\n",
    "        if s == str(q_0):\n",
    "            start_index = partitions.index(state)\n",
    "            br = True\n",
    "            break\n",
    "start_state_minimized = f'Q{start_index}'\n",
    "print(start_state_minimized)           "
   ]
  },
  {
   "cell_type": "code",
   "execution_count": 168,
   "metadata": {},
   "outputs": [
    {
     "name": "stdout",
     "output_type": "stream",
     "text": [
      "Combined Transitions: {('Q1', 'a'): 'Q0', ('Q0', 'b'): 'Q2', ('Q2', 'b,c'): 'Q2', ('Q2', 'd'): 'Q3', ('Q3', 'd'): 'Q3'}\n"
     ]
    }
   ],
   "source": [
    "combined_transitions = {}\n",
    "grouped_transitions = {}\n",
    "\n",
    "# Group transitions by (source, destination) tuple\n",
    "for transition, destination in minimized_transitions.items():\n",
    "    if (transition[0], destination) not in grouped_transitions:\n",
    "        grouped_transitions[(transition[0], destination)] = [transition[1]]\n",
    "    else:\n",
    "        grouped_transitions[(transition[0], destination)].append(transition[1])\n",
    "\n",
    "# Combine symbols for each (source, destination) group\n",
    "for (source, destination), symbols in grouped_transitions.items():\n",
    "    combined_transitions[(source, ','.join(sorted(set(symbols))))] = destination\n",
    "\n",
    "print(\"Combined Transitions:\", combined_transitions)\n"
   ]
  },
  {
   "cell_type": "code",
   "execution_count": 172,
   "metadata": {},
   "outputs": [
    {
     "data": {
      "text/plain": [
       "'dfa_min_graph.png'"
      ]
     },
     "execution_count": 172,
     "metadata": {},
     "output_type": "execute_result"
    }
   ],
   "source": [
    "def visualize_min_dfa(D_transitions , dict_of_min_states):\n",
    "    dot = Digraph()\n",
    "\n",
    "    # Add nodes\n",
    "    for key in dict_of_min_states.keys():\n",
    "        dot.node(key, shape='doublecircle' if dict_of_min_states[key] else 'circle')\n",
    "        \n",
    "    # Add edges\n",
    "    for (src, symbol), dst in D_transitions.items():\n",
    "        dot.edge((src), (dst), label=symbol)\n",
    "    dot.edge('start' , start_state_minimized)\n",
    "    return dot\n",
    "\n",
    "dot = visualize_min_dfa(combined_transitions , dict_of_min_states)\n",
    "dot.format = 'png'\n",
    "dot.render('dfa_min_graph')"
   ]
  }
 ],
 "metadata": {
  "kernelspec": {
   "display_name": "Python 3",
   "language": "python",
   "name": "python3"
  },
  "language_info": {
   "codemirror_mode": {
    "name": "ipython",
    "version": 3
   },
   "file_extension": ".py",
   "mimetype": "text/x-python",
   "name": "python",
   "nbconvert_exporter": "python",
   "pygments_lexer": "ipython3",
   "version": "3.10.7"
  }
 },
 "nbformat": 4,
 "nbformat_minor": 2
}
