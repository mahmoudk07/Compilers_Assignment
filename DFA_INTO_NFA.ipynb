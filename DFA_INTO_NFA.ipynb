{
 "cells": [
  {
   "cell_type": "code",
   "execution_count": null,
   "metadata": {},
   "outputs": [],
   "source": [
    "# To convert from NFA to DFA using subset construction method\n",
    "# 1. Epsilon closure of the initial state\n",
    "# 2. For each state in the epsilon closure, find the transition on each input symbol\n",
    "# 3. Epsilon closure of the states reached in step 2\n",
    "# 4. Repeat step 2 and 3 until no new states are reached\n",
    "# 5. The states reached in step 4 are the states of the DFA\n",
    "# 6. The transition function of the DFA is the transitions found in step 2 and 3"
   ]
  },
  {
   "cell_type": "code",
   "execution_count": 356,
   "metadata": {},
   "outputs": [
    {
     "name": "stdout",
     "output_type": "stream",
     "text": [
      "['a', 'b', 'c', 'd', 'e', 'f', 'g', 'h', 'i', 'j', 'k', 'l', 'm', 'n', 'o', 'p', 'q', 'r', 's', 't', 'u', 'v', 'w', 'x', 'y', 'z']\n"
     ]
    }
   ],
   "source": [
    "def Split_range(range_string):\n",
    "    start, end = range_string.split('-')\n",
    "    list_range = []\n",
    "    try :\n",
    "        start = int(start)\n",
    "        end = int(end)\n",
    "        for i in range(start, end + 1):\n",
    "            list_range.append(i)\n",
    "        return list_range\n",
    "    except ValueError:\n",
    "        for i in range(ord(start), ord(end) + 1):\n",
    "            list_range.append(chr(i))\n",
    "        return list_range\n",
    "\n",
    "range_string = 'a-z'\n",
    "Symbols = Split_range(range_string)\n",
    "print(Symbols)"
   ]
  },
  {
   "cell_type": "code",
   "execution_count": 357,
   "metadata": {},
   "outputs": [],
   "source": [
    "Symbols = ['a', 'b', 'c']\n",
    "accept_states = {4}\n",
    "start_state = {0}"
   ]
  },
  {
   "cell_type": "code",
   "execution_count": 358,
   "metadata": {},
   "outputs": [
    {
     "name": "stdout",
     "output_type": "stream",
     "text": [
      "{'{2, 3, 4}': True, '{2, 3}': False, '{1, 2}': False, '{0, 3}': False, '{1, 3, 4}': True}\n",
      "{(frozenset({0, 3}), 'a'): {2, 3}, (frozenset({0, 3}), 'b'): {1, 3, 4}, (frozenset({1, 3, 4}), 'a'): {2, 3}, (frozenset({1, 3, 4}), 'b'): {1, 2}, (frozenset({1, 2}), 'a'): {2, 3}, (frozenset({1, 2}), 'b'): {2, 3, 4}, (frozenset({2, 3, 4}), 'a'): {2, 3}, (frozenset({2, 3, 4}), 'b'): {1, 3, 4}, (frozenset({2, 3}), 'a'): {2, 3}, (frozenset({2, 3}), 'b'): {1, 3, 4}}\n"
     ]
    }
   ],
   "source": [
    "def epsilon_closure(nfa, states):\n",
    "    closure = set(states)\n",
    "    stack = list(states)\n",
    "    while stack:\n",
    "        state = stack.pop()\n",
    "        if 'e' in nfa[state]:\n",
    "            for s in nfa[state]['e']:\n",
    "                if s not in closure:\n",
    "                    closure.add(s)\n",
    "                    stack.append(s)\n",
    "    return closure\n",
    "\n",
    "def move(nfa, states, symbol):\n",
    "    moves = set()\n",
    "    for state in states:\n",
    "        if symbol in nfa[state]:\n",
    "            moves.update(nfa[state][symbol])\n",
    "    return moves\n",
    "\n",
    "nfa = {\n",
    "    0: {'a': {2} , 'e': {3} , 'b': {4}},\n",
    "    1: {'a': {3}, 'b': {2}},\n",
    "    2: {'a': {2} , 'b': {4}},\n",
    "    3: {'a' : {3} , 'b': {1}},\n",
    "    4: {'e': {3} , 'b': {1} , 'a': {2}},\n",
    "}\n",
    "D_states = epsilon_closure(nfa,start_state) # {0, 1}\n",
    "D_transitions = {}\n",
    "def convert_dfa_from_nfa(nfa , D_states , D_transitions) :\n",
    "    stack = [D_states]\n",
    "    while stack:\n",
    "        D_states = stack.pop()\n",
    "        for symbol in Symbols:\n",
    "            moves = move(nfa, D_states, symbol)\n",
    "            moves = epsilon_closure(nfa, moves)\n",
    "            if moves:\n",
    "                if (frozenset(D_states), symbol) not in D_transitions:\n",
    "                    D_transitions[(frozenset(D_states), symbol)] = moves\n",
    "                    stack.append(moves)\n",
    "    return D_transitions\n",
    "\n",
    "\n",
    "D_transitions = convert_dfa_from_nfa(nfa , D_states , D_transitions)\n",
    "\n",
    "D_states = set(D_transitions.keys())\n",
    "set_of_states = set()\n",
    "dict_of_states = {}\n",
    "for D_state in D_states:\n",
    "    set_of_states.add(D_state[0])\n",
    "for state in (set_of_states):\n",
    "    for accept_state in accept_states:\n",
    "        if accept_state in state:\n",
    "            dict_of_states[str(set(state))] = True\n",
    "            break\n",
    "        else:\n",
    "            dict_of_states[str(set(state))] = False\n",
    "print(dict_of_states)\n",
    "print(D_transitions)\n",
    "#D_transitions = {(frozenset({0, 1, 2}), 'a'): {2, 3}, (frozenset({0, 1, 2}), 'b'): {3, 4}, (frozenset({3, 4}), 'a'): {2}, (frozenset({3, 4}), 'b'): {1, 2}, (frozenset({1, 2}), 'a'): {3}, (frozenset({1, 2}), 'b'): {3, 4}, (frozenset({3}), 'b'): {1, 2}, (frozenset({2}), 'b'): {3, 4}, (frozenset({2, 3}), 'b'): {1, 2, 3, 4}, (frozenset({1, 2, 3, 4}), 'a'): {2, 3}, (frozenset({1, 2, 3, 4}), 'b'): {1, 2, 3, 4}, (frozenset({3}), 'a'): {3, 4}, (frozenset({2}), 'a'): {1, 2, 3, 4}, (frozenset({2, 3}), 'a'): {0, 1, 2}}"
   ]
  },
  {
   "cell_type": "code",
   "execution_count": 359,
   "metadata": {},
   "outputs": [
    {
     "data": {
      "text/plain": [
       "'dfa_graph.png'"
      ]
     },
     "execution_count": 359,
     "metadata": {},
     "output_type": "execute_result"
    }
   ],
   "source": [
    "from graphviz import Digraph\n",
    "def visualize_dfa(D_transitions):\n",
    "    dot = Digraph()\n",
    "\n",
    "    # Add nodes\n",
    "    for key in dict_of_states.keys():\n",
    "        dot.node(key, shape='doublecircle' if dict_of_states[key] else 'circle')\n",
    "\n",
    "    # Add edges\n",
    "    for (src, symbol), dst in D_transitions.items():\n",
    "        dot.edge(str(set(src)), str(set(dst)), label=symbol)\n",
    "\n",
    "    return dot\n",
    "\n",
    "\n",
    "#D_transitions = convert_dfa_from_nfa(nfa , D_states , D_transitions)\n",
    "dot = visualize_dfa(D_transitions)\n",
    "dot.format = 'png'\n",
    "dot.render('dfa_graph')"
   ]
  },
  {
   "cell_type": "code",
   "execution_count": 360,
   "metadata": {},
   "outputs": [
    {
     "name": "stdout",
     "output_type": "stream",
     "text": [
      "{('{0, 3}', 'a'): {2, 3}, ('{0, 3}', 'b'): {1, 3, 4}, ('{1, 3, 4}', 'a'): {2, 3}, ('{1, 3, 4}', 'b'): {1, 2}, ('{1, 2}', 'a'): {2, 3}, ('{1, 2}', 'b'): {2, 3, 4}, ('{2, 3, 4}', 'a'): {2, 3}, ('{2, 3, 4}', 'b'): {1, 3, 4}, ('{2, 3}', 'a'): {2, 3}, ('{2, 3}', 'b'): {1, 3, 4}}\n"
     ]
    }
   ],
   "source": [
    "new_D_transitions = {}\n",
    "\n",
    "# Iterate through the original dictionary\n",
    "for key, value in D_transitions.items():\n",
    "    # Extract state and symbol from the key\n",
    "    state = ', '.join(str(s) for s in key[0])\n",
    "    symbol = key[1]\n",
    "    # Construct new key in the desired format\n",
    "    new_key = f'{{{state}}}', symbol\n",
    "    new_D_transitions[new_key] = value\n",
    "\n",
    "print(new_D_transitions)\n",
    "D_transitions = new_D_transitions\n",
    "\n"
   ]
  },
  {
   "cell_type": "code",
   "execution_count": 342,
   "metadata": {},
   "outputs": [
    {
     "name": "stdout",
     "output_type": "stream",
     "text": [
      "Minimized Transitions:  {('S2', 'a'): 'S2', ('S2', 'b'): 'S3', ('S3', 'a'): 'S2', ('S3', 'b'): 'S1', ('S1', 'a'): 'S2', ('S1', 'b'): 'S0', ('S0', 'a'): 'S2', ('S0', 'b'): 'S3'}\n",
      "Node mapper :  {'S0': {'{2, 3, 4}'}, 'S1': {'{1, 2}'}, 'S2': {'{2, 3}', '{0, 3}'}, 'S3': {'{1, 3, 4}'}}\n",
      "{'S0': True, 'S1': False, 'S2': False, 'S3': True}\n",
      "[{'{2, 3, 4}'}, {'{1, 2}'}, {'{2, 3}', '{0, 3}'}, {'{1, 3, 4}'}]\n"
     ]
    }
   ],
   "source": [
    "# first_set = set()\n",
    "# second_set = set()\n",
    "# for key in dict_of_states.keys():\n",
    "#     if dict_of_states[key]:\n",
    "#         second_set.add(key)\n",
    "#     else:\n",
    "#         first_set.add(key)\n",
    "# stack = [first_set, second_set]\n",
    "# def DFA_Minimization(D_transitions, Symbols, dict_of_states):\n",
    "#     P = [first_set, second_set]\n",
    "#     W = [second_set]  \n",
    "    \n",
    "#     while W:\n",
    "#         A = W.pop()\n",
    "#         for c in Symbols:\n",
    "#             X = set()\n",
    "#             for state in dict_of_states.keys():\n",
    "#                 if (state, c) in D_transitions:\n",
    "#                     if str(D_transitions[(state, c)]) in A:\n",
    "#                         X.add(state)\n",
    "#             for Y in P[:]:\n",
    "#                 intersection = X & Y\n",
    "#                 difference = Y - X\n",
    "#                 if intersection:\n",
    "#                     P.remove(Y)\n",
    "#                     P.extend([intersection, difference])\n",
    "#                     if Y in W:\n",
    "#                         W.remove(Y)\n",
    "#                         W.extend([intersection, difference])\n",
    "#                     else:\n",
    "#                         if len(intersection) <= len(difference):\n",
    "#                             W.append(intersection)\n",
    "#                         else:\n",
    "#                             W.append(difference)\n",
    "#     for sets in P[:]:\n",
    "#         if sets == set():\n",
    "#             P.remove(sets)  \n",
    "#     return P\n",
    "\n",
    "# P = DFA_Minimization(D_transitions, Symbols, dict_of_states)\n",
    "# li = list(dict_of_states.keys())\n",
    "# node_mapper = {}\n",
    "# for i in range(len(P)):\n",
    "#     node_mapper[f'S{i}'] = (P[i])\n",
    "\n",
    "# converted_dict = {}\n",
    "# for key, value_set in node_mapper.items():\n",
    "#     for value in value_set:\n",
    "#         converted_dict[value] = key\n",
    "\n",
    "\n",
    "# minimized_transitions = {}\n",
    "# for (src, symbol), dst in D_transitions.items():\n",
    "#     for i in range(len(P)):\n",
    "#         if src in P[i]:\n",
    "#             src = f'S{i}'\n",
    "#             break\n",
    "#     for i in range(len(P)):\n",
    "#         if dst in P[i]:\n",
    "#             dst = f'S{i}'\n",
    "#             break\n",
    "#     minimized_transitions[(src, symbol)] = converted_dict[str(dst)]\n",
    "# print('Minimized Transitions: ',minimized_transitions)\n",
    "# print(\"Node mapper : \",node_mapper)\n",
    "# dict_of_min_states = {}\n",
    "# for key,sets in node_mapper.items():\n",
    "#     dict_of_min_states[key] = False\n",
    "#     for set_ in sets:\n",
    "#         if dict_of_states[set_]:\n",
    "#             dict_of_min_states[key] = True\n",
    "#             break\n",
    "    \n",
    "# print((dict_of_min_states))   \n",
    "# print(P)    "
   ]
  },
  {
   "cell_type": "code",
   "execution_count": 362,
   "metadata": {},
   "outputs": [
    {
     "name": "stdout",
     "output_type": "stream",
     "text": [
      "States :  [{'{2, 3}', '{0, 3}'}, {'{1, 2}'}, {'{2, 3, 4}'}, {'{1, 3, 4}'}]\n",
      "State_mapping:  {'{2, 3}': 'S0', '{0, 3}': 'S0', '{1, 2}': 'S1', '{2, 3, 4}': 'S2', '{1, 3, 4}': 'S3'}\n",
      "Node mapper :  {'S0': {'{2, 3}', '{0, 3}'}, 'S1': {'{1, 2}'}, 'S2': {'{2, 3, 4}'}, 'S3': {'{1, 3, 4}'}}\n",
      "{'S0': False, 'S1': False, 'S2': True, 'S3': True}\n",
      "Minimized Transitions:  {('S0', 'a'): 'S0', ('S0', 'b'): 'S3', ('S3', 'a'): 'S0', ('S3', 'b'): 'S1', ('S1', 'a'): 'S0', ('S1', 'b'): 'S2', ('S2', 'a'): 'S0', ('S2', 'b'): 'S3'}\n"
     ]
    }
   ],
   "source": [
    "def minimize_dfa(D_transitions, dict_of_states):\n",
    "    partitions = [set(), set()]\n",
    "    for state, is_accepting in dict_of_states.items():\n",
    "        partitions[is_accepting].add(state)     # Non accepting states then accepting states\n",
    "    while True:\n",
    "        new_partitions = []\n",
    "        for partition in partitions:\n",
    "            if len(partition) <= 1: \n",
    "                new_partitions.append(partition)\n",
    "                continue\n",
    "\n",
    "            transition_partitions = {}\n",
    "            for state in partition:\n",
    "                transitions = [(symbol, frozenset(D_transitions[state, symbol]) if ((state, symbol) in D_transitions.keys()) else None) for symbol in Symbols] \n",
    "                transition_partitions[state] = transitions\n",
    "            grouped_transitions = {}\n",
    "            for state, transitions in transition_partitions.items():\n",
    "                if tuple(transitions) not in grouped_transitions.keys():\n",
    "                    grouped_transitions[tuple(transitions)] = set()\n",
    "                grouped_transitions[tuple(transitions)].add(state)\n",
    "\n",
    "            new_partitions.extend(grouped_transitions.values())\n",
    "\n",
    "        if new_partitions == partitions: \n",
    "            break\n",
    "        partitions = new_partitions\n",
    "\n",
    "    # Merge equivalent states\n",
    "    state_mapping = {}\n",
    "    for i, partition in enumerate(partitions):\n",
    "        for state in partition:\n",
    "            state_mapping[state] = f'S{i}'\n",
    "\n",
    "    return partitions , state_mapping\n",
    "\n",
    "partitions , state_mapping = minimize_dfa(D_transitions, dict_of_states)\n",
    "print(\"States : \" , partitions)\n",
    "print(\"State_mapping: \" , state_mapping)\n",
    "node_mapper = {}\n",
    "for key, value in state_mapping.items():\n",
    "    if value not in node_mapper:\n",
    "        node_mapper[value] = set()\n",
    "    node_mapper[value].add(key)\n",
    "print(\"Node mapper : \" , node_mapper)\n",
    "dict_of_min_states = {}\n",
    "for key,sets in node_mapper.items():\n",
    "    dict_of_min_states[key] = False\n",
    "    for set_ in sets:\n",
    "        if dict_of_states[set_]:\n",
    "            dict_of_min_states[key] = True\n",
    "            break\n",
    "    \n",
    "print((dict_of_min_states))\n",
    "\n",
    "\n",
    "\n",
    "\n",
    "minimized_transitions = {}\n",
    "for (src, symbol), dst in D_transitions.items():\n",
    "    for i in range(len(partitions)):\n",
    "        if src in partitions[i]:\n",
    "            src = f'S{i}'\n",
    "            break\n",
    "    for i in range(len(partitions)):\n",
    "        if dst in partitions[i]:\n",
    "            dst = f'S{i}'\n",
    "            break\n",
    "    minimized_transitions[(src, symbol)] = state_mapping[str(dst)]\n",
    "print('Minimized Transitions: ',minimized_transitions)\n"
   ]
  },
  {
   "cell_type": "code",
   "execution_count": 363,
   "metadata": {},
   "outputs": [
    {
     "data": {
      "text/plain": [
       "'dfa_min_graph.png'"
      ]
     },
     "execution_count": 363,
     "metadata": {},
     "output_type": "execute_result"
    }
   ],
   "source": [
    "def visualize_min_dfa(D_transitions , dict_of_min_states):\n",
    "    dot = Digraph()\n",
    "\n",
    "    # Add nodes\n",
    "    for key in dict_of_min_states.keys():\n",
    "        dot.node(key, shape='doublecircle' if dict_of_min_states[key] else 'circle')\n",
    "        \n",
    "    # Add edges\n",
    "    for (src, symbol), dst in D_transitions.items():\n",
    "        dot.edge((src), (dst), label=symbol)\n",
    "\n",
    "    return dot\n",
    "\n",
    "dot = visualize_min_dfa(minimized_transitions , dict_of_min_states)\n",
    "dot.format = 'png'\n",
    "dot.render('dfa_min_graph')"
   ]
  }
 ],
 "metadata": {
  "kernelspec": {
   "display_name": "Python 3",
   "language": "python",
   "name": "python3"
  },
  "language_info": {
   "codemirror_mode": {
    "name": "ipython",
    "version": 3
   },
   "file_extension": ".py",
   "mimetype": "text/x-python",
   "name": "python",
   "nbconvert_exporter": "python",
   "pygments_lexer": "ipython3",
   "version": "3.10.7"
  }
 },
 "nbformat": 4,
 "nbformat_minor": 2
}
