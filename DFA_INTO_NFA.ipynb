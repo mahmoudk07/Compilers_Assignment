{
 "cells": [
  {
   "cell_type": "code",
   "execution_count": null,
   "metadata": {},
   "outputs": [],
   "source": [
    "# To convert from NFA to DFA using subset construction method\n",
    "# 1. Epsilon closure of the initial state\n",
    "# 2. For each state in the epsilon closure, find the transition on each input symbol\n",
    "# 3. Epsilon closure of the states reached in step 2\n",
    "# 4. Repeat step 2 and 3 until no new states are reached\n",
    "# 5. The states reached in step 4 are the states of the DFA\n",
    "# 6. The transition function of the DFA is the transitions found in step 2 and 3"
   ]
  },
  {
   "cell_type": "code",
   "execution_count": 1,
   "metadata": {},
   "outputs": [],
   "source": [
    "Symbols = ['a', 'b', 'c']\n",
    "accept_states = {3}\n",
    "start_state = {0}"
   ]
  },
  {
   "cell_type": "code",
   "execution_count": 7,
   "metadata": {},
   "outputs": [
    {
     "name": "stdout",
     "output_type": "stream",
     "text": [
      "[{0}]\n",
      "{'{3}': True, '{2}': False, '{1}': False, '{0}': False}\n"
     ]
    }
   ],
   "source": [
    "def epsilon_closure(nfa, states):\n",
    "    closure = set(states)\n",
    "    stack = list(states)\n",
    "    while stack:\n",
    "        state = stack.pop()\n",
    "        if 'e' in nfa[state]:\n",
    "            for s in nfa[state]['e']:\n",
    "                if s not in closure:\n",
    "                    closure.add(s)\n",
    "                    stack.append(s)\n",
    "    return closure\n",
    "\n",
    "def move(nfa, states, symbol):\n",
    "    moves = set()\n",
    "    for state in states:\n",
    "        if symbol in nfa[state]:\n",
    "            moves.update(nfa[state][symbol])\n",
    "    return moves\n",
    "\n",
    "nfa = {\n",
    "    0: {'a': {3} , 'b': {1}},\n",
    "    1: {'a': {0}, 'b': {2}},\n",
    "    2: {'b': {1} , 'a' :{3}},\n",
    "    3: {'a' : {2} , 'b' : {0}},\n",
    "}\n",
    "D_states = epsilon_closure(nfa,start_state) # {0, 1}\n",
    "print(([D_states]))\n",
    "D_transitions = {}\n",
    "def convert_dfa_from_nfa(nfa , D_states , D_transitions) :\n",
    "    stack = [D_states]\n",
    "    while stack:\n",
    "        D_states = stack.pop()\n",
    "        for symbol in Symbols:\n",
    "            moves = move(nfa, D_states, symbol)\n",
    "            moves = epsilon_closure(nfa, moves)\n",
    "            if moves:\n",
    "                if (frozenset(D_states), symbol) not in D_transitions:\n",
    "                    D_transitions[(frozenset(D_states), symbol)] = moves\n",
    "                    stack.append(moves)\n",
    "    return D_transitions\n",
    "\n",
    "\n",
    "D_transitions = convert_dfa_from_nfa(nfa , D_states , D_transitions)\n",
    "\n",
    "D_states = set(D_transitions.keys())\n",
    "set_of_states = set()\n",
    "dict_of_states = {}\n",
    "for D_state in D_states:\n",
    "    set_of_states.add(D_state[0])\n",
    "for state in (set_of_states):\n",
    "    for accept_state in accept_states:\n",
    "        if accept_state in state:\n",
    "            dict_of_states[str(set(state))] = True\n",
    "            break\n",
    "        else:\n",
    "            dict_of_states[str(set(state))] = False\n",
    "print(dict_of_states)\n"
   ]
  },
  {
   "cell_type": "code",
   "execution_count": 3,
   "metadata": {},
   "outputs": [
    {
     "data": {
      "text/plain": [
       "'dfa_graph.png'"
      ]
     },
     "execution_count": 3,
     "metadata": {},
     "output_type": "execute_result"
    }
   ],
   "source": [
    "from graphviz import Digraph\n",
    "def visualize_dfa(D_transitions):\n",
    "    dot = Digraph()\n",
    "\n",
    "    # Add nodes\n",
    "    for key in dict_of_states.keys():\n",
    "        dot.node(key, shape='doublecircle' if dict_of_states[key] else 'circle')\n",
    "\n",
    "    # Add edges\n",
    "    for (src, symbol), dst in D_transitions.items():\n",
    "        dot.edge(str(set(src)), str(set(dst)), label=symbol)\n",
    "\n",
    "    return dot\n",
    "\n",
    "\n",
    "#D_transitions = convert_dfa_from_nfa(nfa , D_states , D_transitions)\n",
    "dot = visualize_dfa(D_transitions)\n",
    "dot.format = 'png'\n",
    "dot.render('dfa_graph')"
   ]
  },
  {
   "cell_type": "code",
   "execution_count": 106,
   "metadata": {},
   "outputs": [
    {
     "name": "stdout",
     "output_type": "stream",
     "text": [
      "{(frozenset({0}), 'a'): {3}, (frozenset({0}), 'b'): {1}, (frozenset({1}), 'a'): {0}, (frozenset({1}), 'b'): {2}, (frozenset({2}), 'a'): {3}, (frozenset({2}), 'b'): {1}, (frozenset({3}), 'a'): {2}, (frozenset({3}), 'b'): {0}}\n"
     ]
    }
   ],
   "source": [
    "print(D_transitions)\n",
    "# D_transitions = {(''.join(str(e) for e in key[0]), str(key[1])): value for key, value in D_transitions.items()}\n",
    "# D_transitions = {(''.join(str(e) for e in key[0]), str(key[1])): str(value) for key, value in D_transitions.items()}"
   ]
  },
  {
   "cell_type": "code",
   "execution_count": 6,
   "metadata": {},
   "outputs": [
    {
     "name": "stdout",
     "output_type": "stream",
     "text": [
      "{('frozenset({0})', 'a'): {3}, ('frozenset({0})', 'b'): {1}, ('frozenset({1})', 'a'): {0}, ('frozenset({1})', 'b'): {2}, ('frozenset({2})', 'a'): {3}, ('frozenset({2})', 'b'): {1}, ('frozenset({3})', 'a'): {2}, ('frozenset({3})', 'b'): {0}}\n"
     ]
    }
   ],
   "source": []
  },
  {
   "cell_type": "code",
   "execution_count": 22,
   "metadata": {},
   "outputs": [
    {
     "name": "stdout",
     "output_type": "stream",
     "text": [
      "{('{0}', 'a'): {3}, ('{0}', 'b'): {1}, ('{1}', 'a'): {0}, ('{1}', 'b'): {2}, ('{2}', 'a'): {3}, ('{2}', 'b'): {1}, ('{3}', 'a'): {2}, ('{3}', 'b'): {0}}\n"
     ]
    }
   ],
   "source": [
    "new_D_transitions = {}\n",
    "\n",
    "# Iterate through the original dictionary\n",
    "for key, value in D_transitions.items():\n",
    "    # Extract state and symbol from the key\n",
    "    state = ', '.join(str(s) for s in key[0])\n",
    "    symbol = key[1]\n",
    "    # Construct new key in the desired format\n",
    "    new_key = f'{{{state}}}', symbol\n",
    "    new_D_transitions[new_key] = value\n",
    "\n",
    "print(new_D_transitions)\n",
    "\n"
   ]
  },
  {
   "cell_type": "code",
   "execution_count": 55,
   "metadata": {},
   "outputs": [
    {
     "name": "stdout",
     "output_type": "stream",
     "text": [
      "{'{3}': True, '{2}': False, '{1}': False, '{0}': False}\n"
     ]
    }
   ],
   "source": [
    "print(dict_of_states)"
   ]
  },
  {
   "cell_type": "code",
   "execution_count": 69,
   "metadata": {},
   "outputs": [
    {
     "name": "stdout",
     "output_type": "stream",
     "text": [
      "[{'{3}'}, {'{1}'}, {'{0}', '{2}'}]\n"
     ]
    }
   ],
   "source": [
    "first_set = set()\n",
    "second_set = set()\n",
    "for key in dict_of_states.keys():\n",
    "    if dict_of_states[key]:\n",
    "        second_set.add(key)\n",
    "    else:\n",
    "        first_set.add(key)\n",
    "stack = [first_set, second_set]\n",
    "def hopcroft(D_transitions, Symbols, dict_of_states):\n",
    "    P = [first_set, second_set]  # Initial partition\n",
    "    W = [second_set]  # New states to be examined\n",
    "    \n",
    "    while W:\n",
    "        A = W.pop()\n",
    "        for c in Symbols:\n",
    "            X = set()\n",
    "            for state in dict_of_states.keys():\n",
    "                if (state, c) in D_transitions:\n",
    "                    if str(D_transitions[(state, c)]) in A:\n",
    "                        X.add(state)\n",
    "            for Y in P[:]:\n",
    "                intersection = X & Y\n",
    "                difference = Y - X\n",
    "                if intersection:\n",
    "                    P.remove(Y)\n",
    "                    P.extend([intersection, difference])\n",
    "                    if Y in W:\n",
    "                        W.remove(Y)\n",
    "                        W.extend([intersection, difference])\n",
    "                    else:\n",
    "                        if len(intersection) <= len(difference):\n",
    "                            W.append(intersection)\n",
    "                        else:\n",
    "                            W.append(difference)\n",
    "    if set() in P:\n",
    "        P.remove(set())  \n",
    "    return P\n",
    "\n",
    "P = hopcroft(new_D_transitions, Symbols, dict_of_states)\n",
    "print(P)\n"
   ]
  },
  {
   "cell_type": "code",
   "execution_count": 53,
   "metadata": {},
   "outputs": [
    {
     "name": "stdout",
     "output_type": "stream",
     "text": [
      "{2}\n",
      "{3}\n",
      "{3}\n",
      "{3}\n",
      "yes\n",
      "{0}\n",
      "{3}\n",
      "{3}\n",
      "{3}\n",
      "yes\n"
     ]
    }
   ],
   "source": []
  }
 ],
 "metadata": {
  "kernelspec": {
   "display_name": "Python 3",
   "language": "python",
   "name": "python3"
  },
  "language_info": {
   "codemirror_mode": {
    "name": "ipython",
    "version": 3
   },
   "file_extension": ".py",
   "mimetype": "text/x-python",
   "name": "python",
   "nbconvert_exporter": "python",
   "pygments_lexer": "ipython3",
   "version": "3.10.7"
  }
 },
 "nbformat": 4,
 "nbformat_minor": 2
}
